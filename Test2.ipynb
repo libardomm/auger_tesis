{
 "cells": [
  {
   "cell_type": "markdown",
   "metadata": {},
   "source": [
    "# Desarrollo de modelos predictivos para la estimación de la temperatura superficial de los detectores del observatorio Pierre Auger\n",
    "\n",
    "\n"
   ]
  },
  {
   "cell_type": "markdown",
   "metadata": {},
   "source": [
    "##  ** 1. Preparación de Datos **"
   ]
  },
  {
   "cell_type": "code",
   "execution_count": 1,
   "metadata": {
    "collapsed": true
   },
   "outputs": [],
   "source": [
    "import pandas as pd\n",
    "import numpy as np\n",
    "pd.set_option('display.max_columns', None)\n",
    "pd.set_option('display.max_rows', 20)\n"
   ]
  },
  {
   "cell_type": "markdown",
   "metadata": {},
   "source": [
    "Definir nombres de las columnas que se van a usar y  la lista en la cual se van almacenar los dias de datos que se van a usar."
   ]
  },
  {
   "cell_type": "code",
   "execution_count": 2,
   "metadata": {
    "collapsed": true
   },
   "outputs": [],
   "source": [
    "nombres2=['fLsId', 'fTime', 'fPMT[0]', 'fPMT[1]', 'fPMT[2]', 'fElectT',\n",
    "       'fBatteryT[0]', 'fBatteryT[1]'] \n",
    "dias=[]"
   ]
  },
  {
   "cell_type": "markdown",
   "metadata": {},
   "source": [
    "Cargar los dias de datos necesarios"
   ]
  },
  {
   "cell_type": "code",
   "execution_count": 3,
   "metadata": {
    "collapsed": true
   },
   "outputs": [],
   "source": [
    "dias.append(pd.read_csv(\"./0000mc_2017_08_01_00h00.root\", header=None, names=nombres2, sep=\" \", usecols=[0,1,14,15,16,17,18,19 ],index_col=1 ))"
   ]
  },
  {
   "cell_type": "code",
   "execution_count": 4,
   "metadata": {
    "collapsed": true
   },
   "outputs": [],
   "source": [
    "dias.append(pd.read_csv(\"./0000mc_2017_08_02_00h00.root\", header=None, names=nombres2, sep=\" \", usecols=[0,1,14,15,16,17,18,19 ],index_col=1 ))"
   ]
  },
  {
   "cell_type": "code",
   "execution_count": 5,
   "metadata": {
    "collapsed": true
   },
   "outputs": [],
   "source": [
    "dias.append(pd.read_csv(\"./0000mc_2017_08_04_00h00.root\", header=None, names=nombres2, sep=\" \", usecols=[0,1,14,15,16,17,18,19 ],index_col=1 ))"
   ]
  },
  {
   "cell_type": "code",
   "execution_count": 6,
   "metadata": {
    "collapsed": true
   },
   "outputs": [],
   "source": [
    "dias.append(pd.read_csv(\"./0000mc_2017_08_05_00h00.root\", header=None, names=nombres2, sep=\" \", usecols=[0,1,14,15,16,17,18,19 ],index_col=1 ))"
   ]
  },
  {
   "cell_type": "code",
   "execution_count": 7,
   "metadata": {
    "collapsed": true
   },
   "outputs": [],
   "source": [
    "dias.append(pd.read_csv(\"./0000mc_2017_08_07_00h09.root\", header=None, names=nombres2, sep=\" \", usecols=[0,1,14,15,16,17,18,19 ],index_col=1 ))"
   ]
  },
  {
   "cell_type": "code",
   "execution_count": 8,
   "metadata": {
    "collapsed": true
   },
   "outputs": [],
   "source": [
    "dias.append(pd.read_csv(\"./0000mc_2017_08_08_00h00.root\", header=None, names=nombres2, sep=\" \", usecols=[0,1,14,15,16,17,18,19 ],index_col=1 ))"
   ]
  },
  {
   "cell_type": "code",
   "execution_count": 9,
   "metadata": {
    "collapsed": true
   },
   "outputs": [],
   "source": [
    "dias.append(pd.read_csv(\"./0000mc_2017_08_09_00h00.root\", header=None, names=nombres2, sep=\" \", usecols=[0,1,14,15,16,17,18,19 ],index_col=1 ))"
   ]
  },
  {
   "cell_type": "code",
   "execution_count": 10,
   "metadata": {
    "collapsed": true
   },
   "outputs": [],
   "source": [
    "dias.append(pd.read_csv(\"./0000mc_2017_08_10_00h00.root\", header=None, names=nombres2, sep=\" \", usecols=[0,1,14,15,16,17,18,19 ],index_col=1 ))"
   ]
  },
  {
   "cell_type": "code",
   "execution_count": 11,
   "metadata": {
    "collapsed": true
   },
   "outputs": [],
   "source": [
    "dias.append(pd.read_csv(\"./0000mc_2017_08_12_00h00.root\", header=None, names=nombres2, sep=\" \", usecols=[0,1,14,15,16,17,18,19 ],index_col=1 ))"
   ]
  },
  {
   "cell_type": "code",
   "execution_count": 12,
   "metadata": {
    "collapsed": true
   },
   "outputs": [],
   "source": [
    "dias.append(pd.read_csv(\"./0000mc_2017_08_13_00h00.root\", header=None, names=nombres2, sep=\" \", usecols=[0,1,14,15,16,17,18,19 ],index_col=1 ))"
   ]
  },
  {
   "cell_type": "markdown",
   "metadata": {},
   "source": [
    "Se seleccionan en listas, los dias de datos de cada detector(los 19 mas cercanos a ** Los Leones **)."
   ]
  },
  {
   "cell_type": "code",
   "execution_count": 13,
   "metadata": {
    "collapsed": true
   },
   "outputs": [],
   "source": [
    "det321L=[]\n",
    "det440L=[]\n",
    "det322L=[]\n",
    "det378L=[]\n",
    "det384L=[]\n",
    "det441L=[]\n",
    "det427L=[]\n",
    "det379L=[]\n",
    "det361L=[]\n",
    "det429L=[]\n",
    "det433L=[]\n",
    "det385L=[]\n",
    "det367L=[]\n",
    "det432L=[]\n",
    "det387L=[]\n",
    "det346L=[]\n",
    "det364L=[]\n",
    "det376L=[]\n",
    "det375L=[]\n",
    "\n",
    "for df in dias:\n",
    "    df.index=pd.to_datetime(df.index,unit=\"s\")\n",
    "    det321L.append(df[df.fLsId==321])\n",
    "    det440L.append(df[df.fLsId==440])\n",
    "    det322L.append(df[df.fLsId==322])\n",
    "    det378L.append(df[df.fLsId==378])\n",
    "    det384L.append(df[df.fLsId==384])\n",
    "    det441L.append(df[df.fLsId==441])\n",
    "    det427L.append(df[df.fLsId==427])\n",
    "    det379L.append(df[df.fLsId==379])\n",
    "    det361L.append(df[df.fLsId==361])\n",
    "    det429L.append(df[df.fLsId==429])\n",
    "    det433L.append(df[df.fLsId==433])\n",
    "    det385L.append(df[df.fLsId==385])\n",
    "    det367L.append(df[df.fLsId==367])\n",
    "    det432L.append(df[df.fLsId==432])\n",
    "    det387L.append(df[df.fLsId==387])\n",
    "    det346L.append(df[df.fLsId==346])\n",
    "    det364L.append(df[df.fLsId==364])\n",
    "    det376L.append(df[df.fLsId==376])\n",
    "    det375L.append(df[df.fLsId==375])\n",
    "    \n"
   ]
  },
  {
   "cell_type": "markdown",
   "metadata": {},
   "source": [
    "Se seleccionan en listas, los dias de datos de cada detector(los 19 mas cercanos a ** Los Morados **)."
   ]
  },
  {
   "cell_type": "code",
   "execution_count": 14,
   "metadata": {
    "collapsed": true
   },
   "outputs": [],
   "source": [
    "det887L=[]\n",
    "det878L=[]\n",
    "det886L=[]\n",
    "det879L=[]\n",
    "det877L=[]\n",
    "det881L=[]\n",
    "det885L=[]\n",
    "det876L=[]\n",
    "det884L=[]\n",
    "det888L=[]\n",
    "det880L=[]\n",
    "det882L=[]\n",
    "det673L=[]\n",
    "det908L=[]\n",
    "det874L=[]\n",
    "det893L=[]\n",
    "det763L=[]\n",
    "det883L=[]\n",
    "det1175L=[]\n",
    "\n",
    "for df in dias:\n",
    "    df.index=pd.to_datetime(df.index,unit=\"s\")\n",
    "    det887L.append(df[df.fLsId==887])\n",
    "    det878L.append(df[df.fLsId==878])\n",
    "    det886L.append(df[df.fLsId==886])\n",
    "    det879L.append(df[df.fLsId==879])\n",
    "    det877L.append(df[df.fLsId==877])\n",
    "    det881L.append(df[df.fLsId==881])\n",
    "    det885L.append(df[df.fLsId==885])\n",
    "    det876L.append(df[df.fLsId==876])\n",
    "    det884L.append(df[df.fLsId==884])\n",
    "    det888L.append(df[df.fLsId==888])\n",
    "    det880L.append(df[df.fLsId==880])\n",
    "    det882L.append(df[df.fLsId==882])\n",
    "    det673L.append(df[df.fLsId==673])\n",
    "    det908L.append(df[df.fLsId==908])\n",
    "    det874L.append(df[df.fLsId==874])\n",
    "    det893L.append(df[df.fLsId==893])\n",
    "    det763L.append(df[df.fLsId==763])\n",
    "    det883L.append(df[df.fLsId==883])\n",
    "    det1175L.append(df[df.fLsId==1175])\n",
    "\n",
    "\n"
   ]
  },
  {
   "cell_type": "markdown",
   "metadata": {},
   "source": [
    "Se seleccionan en listas, los dias de datos de cada detector(los 19 mas cercanos a ** Loma Amarilla **)."
   ]
  },
  {
   "cell_type": "code",
   "execution_count": 15,
   "metadata": {
    "collapsed": true
   },
   "outputs": [],
   "source": [
    "det1102L=[]\n",
    "det1115L=[]\n",
    "det1101L=[]\n",
    "det1116L=[]\n",
    "det1103L=[]\n",
    "det1117L=[]\n",
    "det1108L=[]\n",
    "det1104L=[]\n",
    "det1120L=[]\n",
    "det1109L=[]\n",
    "det1098L=[]\n",
    "det1501L=[]\n",
    "det1107L=[]\n",
    "det1105L=[]\n",
    "det1118L=[]\n",
    "det1164L=[]\n",
    "det1099L=[]\n",
    "det1483L=[]\n",
    "det1119L=[]\n",
    "\n",
    "for df in dias:\n",
    "        df.index=pd.to_datetime(df.index,unit=\"s\")\n",
    "        det1102L.append(df[df.fLsId==1102])\n",
    "        det1115L.append(df[df.fLsId==1115])\n",
    "        det1101L.append(df[df.fLsId==1101])\n",
    "        det1116L.append(df[df.fLsId==1116])\n",
    "        det1103L.append(df[df.fLsId==1103])\n",
    "        det1117L.append(df[df.fLsId==1117])\n",
    "        det1108L.append(df[df.fLsId==1108])\n",
    "        det1104L.append(df[df.fLsId==1104])\n",
    "        det1120L.append(df[df.fLsId==1120])\n",
    "        det1109L.append(df[df.fLsId==1109])\n",
    "        det1098L.append(df[df.fLsId==1098])\n",
    "        det1501L.append(df[df.fLsId==1501])\n",
    "        det1107L.append(df[df.fLsId==1107])\n",
    "        det1105L.append(df[df.fLsId==1105])\n",
    "        det1118L.append(df[df.fLsId==1118])\n",
    "        det1164L.append(df[df.fLsId==1164])\n",
    "        det1099L.append(df[df.fLsId==1099])\n",
    "        det1483L.append(df[df.fLsId==1483])\n",
    "        det1119L.append(df[df.fLsId==1119])\n",
    "\n"
   ]
  },
  {
   "cell_type": "markdown",
   "metadata": {
    "collapsed": true
   },
   "source": [
    "Se hace el remuestreo en aras de garantizar los 216 registros(1 registro cada 400 segundos) por dia y de esta manera, evitar que cada registro de cada detector corresponda con los registros de los otros.\n",
    "\n",
    "La regla que se uso para hacer el remuestreo es el llenado hacia adelante, de modo que se no se usara informacion del futuro y asi seguir tratando los datos como una serie temporal. "
   ]
  },
  {
   "cell_type": "markdown",
   "metadata": {},
   "source": [
    "** Para los Leones **"
   ]
  },
  {
   "cell_type": "code",
   "execution_count": 16,
   "metadata": {
    "collapsed": true
   },
   "outputs": [],
   "source": [
    "det321=pd.concat(det321L).resample(\"400s\").ffill()\n",
    "det440=pd.concat(det440L).resample(\"400s\").ffill()\n",
    "det322=pd.concat(det322L).resample(\"400s\").ffill()\n",
    "det378=pd.concat(det378L).resample(\"400s\").ffill()\n",
    "det384=pd.concat(det384L).resample(\"400s\").ffill()\n",
    "det441=pd.concat(det441L).resample(\"400s\").ffill()\n",
    "det427=pd.concat(det427L).resample(\"400s\").ffill()\n",
    "det379=pd.concat(det379L).resample(\"400s\").ffill()\n",
    "det361=pd.concat(det361L).resample(\"400s\").ffill()\n",
    "det429=pd.concat(det429L).resample(\"400s\").ffill()\n",
    "det433=pd.concat(det433L).resample(\"400s\").ffill()\n",
    "det385=pd.concat(det385L).resample(\"400s\").ffill()\n",
    "det367=pd.concat(det367L).resample(\"400s\").ffill()\n",
    "det432=pd.concat(det432L).resample(\"400s\").ffill()\n",
    "det387=pd.concat(det387L).resample(\"400s\").ffill()\n",
    "det346=pd.concat(det346L).resample(\"400s\").ffill()\n",
    "det364=pd.concat(det364L).resample(\"400s\").ffill()\n",
    "det376=pd.concat(det376L).resample(\"400s\").ffill()\n",
    "det375=pd.concat(det375L).resample(\"400s\").ffill()"
   ]
  },
  {
   "cell_type": "markdown",
   "metadata": {},
   "source": [
    "** Para Los Morados **"
   ]
  },
  {
   "cell_type": "code",
   "execution_count": 17,
   "metadata": {
    "collapsed": true
   },
   "outputs": [],
   "source": [
    "det887=pd.concat(det887L).resample(\"400s\").ffill()\n",
    "det878=pd.concat(det878L).resample(\"400s\").ffill()\n",
    "det886=pd.concat(det886L).resample(\"400s\").ffill()\n",
    "det879=pd.concat(det879L).resample(\"400s\").ffill()\n",
    "det877=pd.concat(det877L).resample(\"400s\").ffill()\n",
    "det881=pd.concat(det881L).resample(\"400s\").ffill()\n",
    "det885=pd.concat(det885L).resample(\"400s\").ffill()\n",
    "det876=pd.concat(det876L).resample(\"400s\").ffill()\n",
    "det884=pd.concat(det884L).resample(\"400s\").ffill()\n",
    "det888=pd.concat(det888L).resample(\"400s\").ffill()\n",
    "det880=pd.concat(det880L).resample(\"400s\").ffill()\n",
    "det882=pd.concat(det882L).resample(\"400s\").ffill()\n",
    "det673=pd.concat(det673L).resample(\"400s\").ffill()\n",
    "det908=pd.concat(det908L).resample(\"400s\").ffill()\n",
    "det874=pd.concat(det874L).resample(\"400s\").ffill()\n",
    "det893=pd.concat(det893L).resample(\"400s\").ffill()\n",
    "det763=pd.concat(det763L).resample(\"400s\").ffill()\n",
    "det883=pd.concat(det883L).resample(\"400s\").ffill()\n",
    "det1175=pd.concat(det1175L).resample(\"400s\").ffill()"
   ]
  },
  {
   "cell_type": "markdown",
   "metadata": {},
   "source": [
    "** Para Loma Amarilla **"
   ]
  },
  {
   "cell_type": "code",
   "execution_count": 18,
   "metadata": {
    "collapsed": true
   },
   "outputs": [],
   "source": [
    "det1102=pd.concat(det1102L).resample(\"400s\").ffill()\n",
    "det1115=pd.concat(det1115L).resample(\"400s\").ffill()\n",
    "det1101=pd.concat(det1101L).resample(\"400s\").ffill()\n",
    "det1116=pd.concat(det1116L).resample(\"400s\").ffill()\n",
    "det1103=pd.concat(det1103L).resample(\"400s\").ffill()\n",
    "det1117=pd.concat(det1117L).resample(\"400s\").ffill()\n",
    "det1108=pd.concat(det1108L).resample(\"400s\").ffill()\n",
    "det1104=pd.concat(det1104L).resample(\"400s\").ffill()\n",
    "det1120=pd.concat(det1120L).resample(\"400s\").ffill()\n",
    "det1109=pd.concat(det1109L).resample(\"400s\").ffill()\n",
    "det1098=pd.concat(det1098L).resample(\"400s\").ffill()\n",
    "det1501=pd.concat(det1501L).resample(\"400s\").ffill()\n",
    "det1107=pd.concat(det1107L).resample(\"400s\").ffill()\n",
    "det1105=pd.concat(det1105L).resample(\"400s\").ffill()\n",
    "det1118=pd.concat(det1118L).resample(\"400s\").ffill()\n",
    "det1164=pd.concat(det1164L).resample(\"400s\").ffill()\n",
    "det1099=pd.concat(det1099L).resample(\"400s\").ffill()\n",
    "det1483=pd.concat(det1483L).resample(\"400s\").ffill()\n",
    "det1119=pd.concat(det1119L).resample(\"400s\").ffill()"
   ]
  },
  {
   "cell_type": "markdown",
   "metadata": {},
   "source": [
    "Se concatenan los datos de los detectores de forma horizontal."
   ]
  },
  {
   "cell_type": "code",
   "execution_count": 19,
   "metadata": {},
   "outputs": [
    {
     "name": "stdout",
     "output_type": "stream",
     "text": [
      "(2809, 114)\n",
      "(2809, 114)\n",
      "(2808, 114)\n"
     ]
    }
   ],
   "source": [
    "#Leones\n",
    "lista_Detec_leones=[det321,det440,det322, det378, det384,det441,det427,det379,det361,det429,det433,det385,det367,\n",
    "             det432,det387,det346,det364,det376,det375]\n",
    "detectoresLeones=pd.concat(lista_Detec_leones, axis=1)\n",
    "detectoresLeones.drop(\"fLsId\", axis=1, inplace=True) #Se borra todas las columnas con el nombre fLsId\n",
    "\n",
    "\n",
    "\n",
    "#Morados\n",
    "lista_Detec_losMorados=[det887, det878, det886,det879, det877,det881, det885,det876, det884, det888, det880, det882,\n",
    "                       det673, det908, det874, det893,det763, det883, det1175 ]\n",
    "detectoresMorados=pd.concat(lista_Detec_losMorados, axis=1)\n",
    "detectoresMorados.drop(\"fLsId\", axis=1, inplace=True) #Se borra todas las columnas con el nombre fLsId\n",
    "#print(len(lista_Detec_losMorados))\n",
    "print(detectoresMorados.shape)\n",
    "print( detectoresLeones.shape)\n",
    "\n",
    "#Loma Amarilla\n",
    "lista_Detec_lomaAmarilla=[det1102, det1115, det1101,det1116,det1103,det1117,\n",
    "      det1108,det1104,det1120,det1109,det1098,det1501,det1107,\n",
    "      det1105,det1118,det1164,det1099,det1483,det1119]\n",
    "detectoresLomaAmarilla=pd.concat(lista_Detec_lomaAmarilla, axis=1)\n",
    "detectoresLomaAmarilla.drop(\"fLsId\", axis=1, inplace=True) #Se borra todas las columnas con el nombre fLsId\n",
    "print(detectoresLomaAmarilla.shape)"
   ]
  },
  {
   "cell_type": "markdown",
   "metadata": {},
   "source": [
    "# Leer Temperatura de la estación"
   ]
  },
  {
   "cell_type": "markdown",
   "metadata": {},
   "source": [
    "Se cargan  los datos de una estación, y se remuestrean de modo que correspondan con la frecuencia con las que se remuestrearon los datos de los detectores. De la misma manera que con los datos de los detectores, estos tambien se remuestrearon usando la regla de llenado hacia delante."
   ]
  },
  {
   "cell_type": "code",
   "execution_count": 20,
   "metadata": {
    "collapsed": true
   },
   "outputs": [],
   "source": [
    "#Leones\n",
    "nombres2=[\"Time\",\"Temperature\"]\n",
    "temperature_Leones=pd.read_csv(\"/home/libardomm/auger/station/Los_Leones/wll_l2.dat\", sep=\" \", header=None, names=nombres2, usecols=[0, 1], index_col=None)\n",
    "temperature_Leones.set_index(\"Time\", inplace=True)\n",
    "temperature_Leones.index=pd.to_datetime(temperature_Leones.index, unit=\"s\")\n",
    "temperature_Leones=temperature_Leones.resample(\"400s\").ffill()\n"
   ]
  },
  {
   "cell_type": "code",
   "execution_count": 21,
   "metadata": {
    "collapsed": true
   },
   "outputs": [],
   "source": [
    "#Morados\n",
    "nombres2=[\"Time\",\"Temperature\"]\n",
    "temperature_Morados=pd.read_csv(\"/home/libardomm/auger/station/Los Morados/wlmo_l2.dat\", sep=\" \", header=None, names=nombres2, usecols=[0, 1], index_col=None)\n",
    "temperature_Morados.set_index(\"Time\", inplace=True)\n",
    "temperature_Morados.index=pd.to_datetime(temperature_Morados.index, unit=\"s\")\n",
    "temperature_Morados=temperature_Morados.resample(\"400s\").ffill()\n"
   ]
  },
  {
   "cell_type": "code",
   "execution_count": 22,
   "metadata": {
    "collapsed": true
   },
   "outputs": [],
   "source": [
    "#Loma Amarilla \n",
    "nombres2=[\"Time\",\"Temperature\"]\n",
    "temperature_LomaAmarilla=pd.read_csv(\"/home/libardomm/auger/station/Loma_Amarilla/wlam_l2.dat\", sep=\" \", header=None, names=nombres2, usecols=[0, 1], index_col=None)\n",
    "temperature_LomaAmarilla.set_index(\"Time\", inplace=True)\n",
    "temperature_LomaAmarilla.index=pd.to_datetime(temperature_LomaAmarilla.index, unit=\"s\")\n",
    "temperature_LomaAmarilla=temperature_LomaAmarilla.resample(\"400s\").ffill()\n",
    "\n",
    "\n"
   ]
  },
  {
   "cell_type": "markdown",
   "metadata": {},
   "source": [
    "Se toman solamente los registros de temperatura necesarios para que coincidan con el numero de registros que se tomaron en los detectores. "
   ]
  },
  {
   "cell_type": "code",
   "execution_count": 23,
   "metadata": {
    "collapsed": true
   },
   "outputs": [],
   "source": [
    "#Leones\n",
    "first=str(detectoresLeones.index[0])\n",
    "last=str(detectoresLeones.index[-1])\n",
    "temperature_Leones=temperature_Leones.loc[first:last]\n"
   ]
  },
  {
   "cell_type": "markdown",
   "metadata": {
    "collapsed": true
   },
   "source": [
    "#Morados\n",
    "first=str(detectoresMorados.index[0])\n",
    "last=str(detectoresMorados.index[-1])\n",
    "temp=temperature_Morados.loc[first:last]\n",
    "temperature_Morados.loc[first]"
   ]
  },
  {
   "cell_type": "code",
   "execution_count": 27,
   "metadata": {
    "collapsed": true
   },
   "outputs": [],
   "source": [
    "#LomaAmarilla\n",
    "first=str(detectoresLomaAmarilla.index[0])\n",
    "last=str(detectoresLomaAmarilla.index[-1])\n",
    "temperature_LomaAmarilla=temperature_LomaAmarilla.loc[first:last]\n"
   ]
  },
  {
   "cell_type": "markdown",
   "metadata": {},
   "source": [
    "Se concatena la temperatura de la estacion con los datos de los detectores. Tambien se eliminan manualmente las filas de datos de los dias faltantes como tambien la primera fila que tiene datos anterioresl al primer dia"
   ]
  },
  {
   "cell_type": "code",
   "execution_count": 28,
   "metadata": {
    "collapsed": true
   },
   "outputs": [],
   "source": [
    "def preparadordeDatos(detectores_station, temp):\n",
    "    data_station=pd.concat([detectores_station, temp], axis=1)\n",
    "    data_station.drop(data_station.loc[\"2017-07-31\"].index, inplace=True)\n",
    "    data_station.drop(data_station.loc[\"2017-08-03\"].index, inplace=True)\n",
    "    data_station.drop(data_station.loc[\"2017-08-06\"].index, inplace=True)\n",
    "    data_station.drop(data_station.loc[\"2017-08-11\"].index, inplace=True) \n",
    "    data_station.fillna(method=\"ffill\", inplace=True)\n",
    "    data_station.fillna(method=\"bfill\", inplace=True)\n",
    "\n",
    "    return data_station"
   ]
  },
  {
   "cell_type": "code",
   "execution_count": 29,
   "metadata": {},
   "outputs": [
    {
     "name": "stdout",
     "output_type": "stream",
     "text": [
      "(2160, 115)\n",
      "(2159, 115)\n"
     ]
    }
   ],
   "source": [
    "data_loslones= preparadordeDatos(detectoresLeones,temperature_Leones)\n",
    "data_lomaAmarilla=preparadordeDatos(detectoresLomaAmarilla,temperature_LomaAmarilla)\n",
    "print(data_loslones.shape)\n",
    "print(data_lomaAmarilla.shape)"
   ]
  },
  {
   "cell_type": "code",
   "execution_count": 30,
   "metadata": {},
   "outputs": [
    {
     "data": {
      "text/html": [
       "<div>\n",
       "<style>\n",
       "    .dataframe thead tr:only-child th {\n",
       "        text-align: right;\n",
       "    }\n",
       "\n",
       "    .dataframe thead th {\n",
       "        text-align: left;\n",
       "    }\n",
       "\n",
       "    .dataframe tbody tr th {\n",
       "        vertical-align: top;\n",
       "    }\n",
       "</style>\n",
       "<table border=\"1\" class=\"dataframe\">\n",
       "  <thead>\n",
       "    <tr style=\"text-align: right;\">\n",
       "      <th></th>\n",
       "      <th>fPMT[0]</th>\n",
       "      <th>fPMT[1]</th>\n",
       "      <th>fPMT[2]</th>\n",
       "      <th>fElectT</th>\n",
       "      <th>fBatteryT[0]</th>\n",
       "      <th>fBatteryT[1]</th>\n",
       "      <th>fPMT[0]</th>\n",
       "      <th>fPMT[1]</th>\n",
       "      <th>fPMT[2]</th>\n",
       "      <th>fElectT</th>\n",
       "      <th>fBatteryT[0]</th>\n",
       "      <th>fBatteryT[1]</th>\n",
       "      <th>fPMT[0]</th>\n",
       "      <th>fPMT[1]</th>\n",
       "      <th>fPMT[2]</th>\n",
       "      <th>fElectT</th>\n",
       "      <th>fBatteryT[0]</th>\n",
       "      <th>fBatteryT[1]</th>\n",
       "      <th>fPMT[0]</th>\n",
       "      <th>fPMT[1]</th>\n",
       "      <th>fPMT[2]</th>\n",
       "      <th>fElectT</th>\n",
       "      <th>fBatteryT[0]</th>\n",
       "      <th>fBatteryT[1]</th>\n",
       "      <th>fPMT[0]</th>\n",
       "      <th>fPMT[1]</th>\n",
       "      <th>fPMT[2]</th>\n",
       "      <th>fElectT</th>\n",
       "      <th>fBatteryT[0]</th>\n",
       "      <th>fBatteryT[1]</th>\n",
       "      <th>fPMT[0]</th>\n",
       "      <th>fPMT[1]</th>\n",
       "      <th>fPMT[2]</th>\n",
       "      <th>fElectT</th>\n",
       "      <th>fBatteryT[0]</th>\n",
       "      <th>fBatteryT[1]</th>\n",
       "      <th>fPMT[0]</th>\n",
       "      <th>fPMT[1]</th>\n",
       "      <th>fPMT[2]</th>\n",
       "      <th>fElectT</th>\n",
       "      <th>fBatteryT[0]</th>\n",
       "      <th>fBatteryT[1]</th>\n",
       "      <th>fPMT[0]</th>\n",
       "      <th>fPMT[1]</th>\n",
       "      <th>fPMT[2]</th>\n",
       "      <th>fElectT</th>\n",
       "      <th>fBatteryT[0]</th>\n",
       "      <th>fBatteryT[1]</th>\n",
       "      <th>fPMT[0]</th>\n",
       "      <th>fPMT[1]</th>\n",
       "      <th>fPMT[2]</th>\n",
       "      <th>fElectT</th>\n",
       "      <th>fBatteryT[0]</th>\n",
       "      <th>fBatteryT[1]</th>\n",
       "      <th>fPMT[0]</th>\n",
       "      <th>fPMT[1]</th>\n",
       "      <th>fPMT[2]</th>\n",
       "      <th>fElectT</th>\n",
       "      <th>fBatteryT[0]</th>\n",
       "      <th>fBatteryT[1]</th>\n",
       "      <th>fPMT[0]</th>\n",
       "      <th>fPMT[1]</th>\n",
       "      <th>fPMT[2]</th>\n",
       "      <th>fElectT</th>\n",
       "      <th>fBatteryT[0]</th>\n",
       "      <th>fBatteryT[1]</th>\n",
       "      <th>fPMT[0]</th>\n",
       "      <th>fPMT[1]</th>\n",
       "      <th>fPMT[2]</th>\n",
       "      <th>fElectT</th>\n",
       "      <th>fBatteryT[0]</th>\n",
       "      <th>fBatteryT[1]</th>\n",
       "      <th>fPMT[0]</th>\n",
       "      <th>fPMT[1]</th>\n",
       "      <th>fPMT[2]</th>\n",
       "      <th>fElectT</th>\n",
       "      <th>fBatteryT[0]</th>\n",
       "      <th>fBatteryT[1]</th>\n",
       "      <th>fPMT[0]</th>\n",
       "      <th>fPMT[1]</th>\n",
       "      <th>fPMT[2]</th>\n",
       "      <th>fElectT</th>\n",
       "      <th>fBatteryT[0]</th>\n",
       "      <th>fBatteryT[1]</th>\n",
       "      <th>fPMT[0]</th>\n",
       "      <th>fPMT[1]</th>\n",
       "      <th>fPMT[2]</th>\n",
       "      <th>fElectT</th>\n",
       "      <th>fBatteryT[0]</th>\n",
       "      <th>fBatteryT[1]</th>\n",
       "      <th>fPMT[0]</th>\n",
       "      <th>fPMT[1]</th>\n",
       "      <th>fPMT[2]</th>\n",
       "      <th>fElectT</th>\n",
       "      <th>fBatteryT[0]</th>\n",
       "      <th>fBatteryT[1]</th>\n",
       "      <th>fPMT[0]</th>\n",
       "      <th>fPMT[1]</th>\n",
       "      <th>fPMT[2]</th>\n",
       "      <th>fElectT</th>\n",
       "      <th>fBatteryT[0]</th>\n",
       "      <th>fBatteryT[1]</th>\n",
       "      <th>fPMT[0]</th>\n",
       "      <th>fPMT[1]</th>\n",
       "      <th>fPMT[2]</th>\n",
       "      <th>fElectT</th>\n",
       "      <th>fBatteryT[0]</th>\n",
       "      <th>fBatteryT[1]</th>\n",
       "      <th>fPMT[0]</th>\n",
       "      <th>fPMT[1]</th>\n",
       "      <th>fPMT[2]</th>\n",
       "      <th>fElectT</th>\n",
       "      <th>fBatteryT[0]</th>\n",
       "      <th>fBatteryT[1]</th>\n",
       "      <th>Temperature</th>\n",
       "    </tr>\n",
       "    <tr>\n",
       "      <th>fTime</th>\n",
       "      <th></th>\n",
       "      <th></th>\n",
       "      <th></th>\n",
       "      <th></th>\n",
       "      <th></th>\n",
       "      <th></th>\n",
       "      <th></th>\n",
       "      <th></th>\n",
       "      <th></th>\n",
       "      <th></th>\n",
       "      <th></th>\n",
       "      <th></th>\n",
       "      <th></th>\n",
       "      <th></th>\n",
       "      <th></th>\n",
       "      <th></th>\n",
       "      <th></th>\n",
       "      <th></th>\n",
       "      <th></th>\n",
       "      <th></th>\n",
       "      <th></th>\n",
       "      <th></th>\n",
       "      <th></th>\n",
       "      <th></th>\n",
       "      <th></th>\n",
       "      <th></th>\n",
       "      <th></th>\n",
       "      <th></th>\n",
       "      <th></th>\n",
       "      <th></th>\n",
       "      <th></th>\n",
       "      <th></th>\n",
       "      <th></th>\n",
       "      <th></th>\n",
       "      <th></th>\n",
       "      <th></th>\n",
       "      <th></th>\n",
       "      <th></th>\n",
       "      <th></th>\n",
       "      <th></th>\n",
       "      <th></th>\n",
       "      <th></th>\n",
       "      <th></th>\n",
       "      <th></th>\n",
       "      <th></th>\n",
       "      <th></th>\n",
       "      <th></th>\n",
       "      <th></th>\n",
       "      <th></th>\n",
       "      <th></th>\n",
       "      <th></th>\n",
       "      <th></th>\n",
       "      <th></th>\n",
       "      <th></th>\n",
       "      <th></th>\n",
       "      <th></th>\n",
       "      <th></th>\n",
       "      <th></th>\n",
       "      <th></th>\n",
       "      <th></th>\n",
       "      <th></th>\n",
       "      <th></th>\n",
       "      <th></th>\n",
       "      <th></th>\n",
       "      <th></th>\n",
       "      <th></th>\n",
       "      <th></th>\n",
       "      <th></th>\n",
       "      <th></th>\n",
       "      <th></th>\n",
       "      <th></th>\n",
       "      <th></th>\n",
       "      <th></th>\n",
       "      <th></th>\n",
       "      <th></th>\n",
       "      <th></th>\n",
       "      <th></th>\n",
       "      <th></th>\n",
       "      <th></th>\n",
       "      <th></th>\n",
       "      <th></th>\n",
       "      <th></th>\n",
       "      <th></th>\n",
       "      <th></th>\n",
       "      <th></th>\n",
       "      <th></th>\n",
       "      <th></th>\n",
       "      <th></th>\n",
       "      <th></th>\n",
       "      <th></th>\n",
       "      <th></th>\n",
       "      <th></th>\n",
       "      <th></th>\n",
       "      <th></th>\n",
       "      <th></th>\n",
       "      <th></th>\n",
       "      <th></th>\n",
       "      <th></th>\n",
       "      <th></th>\n",
       "      <th></th>\n",
       "      <th></th>\n",
       "      <th></th>\n",
       "      <th></th>\n",
       "      <th></th>\n",
       "      <th></th>\n",
       "      <th></th>\n",
       "      <th></th>\n",
       "      <th></th>\n",
       "      <th></th>\n",
       "      <th></th>\n",
       "      <th></th>\n",
       "      <th></th>\n",
       "      <th></th>\n",
       "      <th></th>\n",
       "      <th></th>\n",
       "    </tr>\n",
       "  </thead>\n",
       "  <tbody>\n",
       "  </tbody>\n",
       "</table>\n",
       "</div>"
      ],
      "text/plain": [
       "Empty DataFrame\n",
       "Columns: [fPMT[0], fPMT[1], fPMT[2], fElectT, fBatteryT[0], fBatteryT[1], fPMT[0], fPMT[1], fPMT[2], fElectT, fBatteryT[0], fBatteryT[1], fPMT[0], fPMT[1], fPMT[2], fElectT, fBatteryT[0], fBatteryT[1], fPMT[0], fPMT[1], fPMT[2], fElectT, fBatteryT[0], fBatteryT[1], fPMT[0], fPMT[1], fPMT[2], fElectT, fBatteryT[0], fBatteryT[1], fPMT[0], fPMT[1], fPMT[2], fElectT, fBatteryT[0], fBatteryT[1], fPMT[0], fPMT[1], fPMT[2], fElectT, fBatteryT[0], fBatteryT[1], fPMT[0], fPMT[1], fPMT[2], fElectT, fBatteryT[0], fBatteryT[1], fPMT[0], fPMT[1], fPMT[2], fElectT, fBatteryT[0], fBatteryT[1], fPMT[0], fPMT[1], fPMT[2], fElectT, fBatteryT[0], fBatteryT[1], fPMT[0], fPMT[1], fPMT[2], fElectT, fBatteryT[0], fBatteryT[1], fPMT[0], fPMT[1], fPMT[2], fElectT, fBatteryT[0], fBatteryT[1], fPMT[0], fPMT[1], fPMT[2], fElectT, fBatteryT[0], fBatteryT[1], fPMT[0], fPMT[1], fPMT[2], fElectT, fBatteryT[0], fBatteryT[1], fPMT[0], fPMT[1], fPMT[2], fElectT, fBatteryT[0], fBatteryT[1], fPMT[0], fPMT[1], fPMT[2], fElectT, fBatteryT[0], fBatteryT[1], fPMT[0], fPMT[1], fPMT[2], fElectT, ...]\n",
       "Index: []"
      ]
     },
     "execution_count": 30,
     "metadata": {},
     "output_type": "execute_result"
    }
   ],
   "source": [
    "data_lomaAmarilla[data_lomaAmarilla.iloc[:,110].isnull()]\n",
    "#data_lomaAmarilla.iloc[:,110].isnull().sum()"
   ]
  },
  {
   "cell_type": "markdown",
   "metadata": {},
   "source": [
    "## 2. Machine Learning"
   ]
  },
  {
   "cell_type": "code",
   "execution_count": 31,
   "metadata": {
    "collapsed": true
   },
   "outputs": [],
   "source": [
    "import pandas as pd\n",
    "import numpy as np\n",
    "from sklearn.linear_model import LinearRegression\n",
    "from sklearn import  metrics"
   ]
  },
  {
   "cell_type": "markdown",
   "metadata": {},
   "source": [
    "Se define cual va a ser la matriz de variables de entrada( X: datos de tanques) y el vector con los datos deseados (y: temperatura de una estacion)"
   ]
  },
  {
   "cell_type": "code",
   "execution_count": 66,
   "metadata": {
    "collapsed": true
   },
   "outputs": [],
   "source": [
    "def XySplit(data_station):\n",
    "    columnas=[ 'fPMT[0]', 'fPMT[1]', 'fPMT[2]', 'fElectT',\n",
    "       'fBatteryT[0]', 'fBatteryT[1]'] \n",
    "    \n",
    "    X=data_station[columnas]\n",
    "    y=data_station.Temperature\n",
    "    return X,y"
   ]
  },
  {
   "cell_type": "code",
   "execution_count": 67,
   "metadata": {},
   "outputs": [
    {
     "data": {
      "text/plain": [
       "114"
      ]
     },
     "execution_count": 67,
     "metadata": {},
     "output_type": "execute_result"
    }
   ],
   "source": [
    "columnas=data_lomaAmarilla.columns.tolist()\n",
    "columnas.remove(\"Temperature\")\n",
    "len(columnas)\n",
    "#X=data_lomaAmarilla.iloc[:,1:130]\n",
    "#X[columnas]"
   ]
  },
  {
   "cell_type": "code",
   "execution_count": 68,
   "metadata": {},
   "outputs": [
    {
     "name": "stdout",
     "output_type": "stream",
     "text": [
      "(2159, 114)\n",
      "(2159,)\n"
     ]
    }
   ],
   "source": [
    "X, y=XySplit(data_lomaAmarilla)\n",
    "print(X.shape)\n",
    "print(y.shape)"
   ]
  },
  {
   "cell_type": "markdown",
   "metadata": {
    "collapsed": true
   },
   "source": [
    "Se define la funcion que va a permitir cortar el datos segun las estrategia que se describe a continuacion: \n",
    "* En la primera configuracion se toma algunos dias de datos consecutivos como datos de training y el dia imediatamente despues al ultimo de los dia de training se toma como test.\n",
    "* En la siguiente configuracion se corren tanto los datos de training como los de test en un dia. O en otras palabras, si se toman tres dias de training y en la anterior configuracion se tomaron los dias 1,2 y 3 como training y el dia 4 como testing, en este caso se toman los dias 2,3,4 como training y el dia 5 como testing."
   ]
  },
  {
   "cell_type": "code",
   "execution_count": 69,
   "metadata": {
    "collapsed": true
   },
   "outputs": [],
   "source": [
    "linreg=LinearRegression()\n",
    "\n",
    "def cross_val( Trainfolds, datos, target):\n",
    "    \n",
    "    n=int(X.shape[0]/216)-Trainfolds\n",
    "    linreg=LinearRegression()\n",
    "    regs=216\n",
    "    errores=[]\n",
    "\n",
    "    for n in range(0,n):\n",
    "        f_day_n= regs*n #primer dia de entrenamiento\n",
    "        l_day_n=f_day_n + (Trainfolds*regs) #ultimo dia de entrenan\n",
    "        iX_train=datos.iloc[f_day_n:l_day_n]\n",
    "        iX_test= datos.iloc[l_day_n: l_day_n+regs]\n",
    "        \n",
    "        iy_train=target.iloc[f_day_n:l_day_n]\n",
    "        iy_test=target.iloc[l_day_n: l_day_n+regs]\n",
    "        \n",
    "        linreg.fit(iX_train,iy_train)\n",
    "        iy_predic=linreg.predict(iX_test)\n",
    "        errores.append(np.sqrt(metrics.mean_squared_error(iy_test,iy_predic)))\n",
    "    return  np.array([np.mean(errores),np.std(errores)])\n",
    "    #print(\"Media de errores\", np.mean(errores))\n",
    "    #print(\"Desviacion estandar\", np.std(errores))"
   ]
  },
  {
   "cell_type": "code",
   "execution_count": 70,
   "metadata": {},
   "outputs": [
    {
     "data": {
      "text/plain": [
       "array([ 2.61808611,  0.84744754])"
      ]
     },
     "execution_count": 70,
     "metadata": {},
     "output_type": "execute_result"
    }
   ],
   "source": [
    "cross_val(3,X,y)"
   ]
  },
  {
   "cell_type": "code",
   "execution_count": 71,
   "metadata": {},
   "outputs": [
    {
     "data": {
      "text/plain": [
       "array([ 2.16862923,  0.54609   ])"
      ]
     },
     "execution_count": 71,
     "metadata": {},
     "output_type": "execute_result"
    }
   ],
   "source": [
    "cross_val(4,X,y)"
   ]
  },
  {
   "cell_type": "code",
   "execution_count": 72,
   "metadata": {},
   "outputs": [
    {
     "data": {
      "text/plain": [
       "array([ 1.61243966,  0.21162993])"
      ]
     },
     "execution_count": 72,
     "metadata": {},
     "output_type": "execute_result"
    }
   ],
   "source": [
    "cross_val(5, X,y)"
   ]
  },
  {
   "cell_type": "code",
   "execution_count": 74,
   "metadata": {},
   "outputs": [
    {
     "data": {
      "text/plain": [
       "array([[0, 0],\n",
       "       [1, 2],\n",
       "       [3, 5]])"
      ]
     },
     "execution_count": 74,
     "metadata": {},
     "output_type": "execute_result"
    }
   ],
   "source": [
    "tabla=np.array([0,0])\n",
    "#tabla=np.append([[0,0]],[[1,2]], axis=0)\n",
    "tabla=np.append([tabla],[[1,2]], axis=0)\n",
    "#tabla=np.append([tabla],[[1,3]], axis=0)\n",
    "tabla=np.vstack([tabla,[3,5]])\n",
    "tabla\n",
    "#np.append([[1, 2, 3], [4, 5, 6]], [[7, 8, 9]],axis=0)"
   ]
  },
  {
   "cell_type": "code",
   "execution_count": 75,
   "metadata": {},
   "outputs": [
    {
     "data": {
      "text/plain": [
       "array([['mean', 'standar dev'],\n",
       "       ['2.6180861124216714', '0.8474475374145886'],\n",
       "       ['2.168629233139874', '0.5460899965951301'],\n",
       "       ['1.6124396615414636', '0.21162992527686872']],\n",
       "      dtype='<U32')"
      ]
     },
     "execution_count": 75,
     "metadata": {},
     "output_type": "execute_result"
    }
   ],
   "source": [
    "#tab=np.zeros([2])\n",
    "tab=np.array([\"mean\",\"standar dev\"])\n",
    "for i in range(3,6):\n",
    "    a=cross_val(i,X,y)\n",
    "    a[0]\n",
    "    tab=np.vstack([tab,cross_val(i,X,y)])\n",
    "tab"
   ]
  },
  {
   "cell_type": "code",
   "execution_count": 120,
   "metadata": {
    "collapsed": true
   },
   "outputs": [],
   "source": [
    "#indices = [\"3d-1d-L\",\"4d-1d-L\",\"5d-1d-L\",\"3d-1d-A\",\"4d-1d-A\",\"5d-1d-A\",\"3d-1d-M\",\"4d-1d-M\",\"5d-1d-M\"]\n",
    "indices = [\"3d-1d-L\",\"4d-1d-L\",\"5d-1d-L\",\"3d-1d-A\",\"4d-1d-A\",\"5d-1d-A\"]"
   ]
  },
  {
   "cell_type": "code",
   "execution_count": 123,
   "metadata": {},
   "outputs": [
    {
     "data": {
      "text/html": [
       "<div>\n",
       "<style>\n",
       "    .dataframe thead tr:only-child th {\n",
       "        text-align: right;\n",
       "    }\n",
       "\n",
       "    .dataframe thead th {\n",
       "        text-align: left;\n",
       "    }\n",
       "\n",
       "    .dataframe tbody tr th {\n",
       "        vertical-align: top;\n",
       "    }\n",
       "</style>\n",
       "<table border=\"1\" class=\"dataframe\">\n",
       "  <thead>\n",
       "    <tr style=\"text-align: right;\">\n",
       "      <th></th>\n",
       "      <th>Mean</th>\n",
       "      <th>Standard Dev</th>\n",
       "    </tr>\n",
       "  </thead>\n",
       "  <tbody>\n",
       "    <tr>\n",
       "      <th>3d-1d-L</th>\n",
       "      <td>2.391302</td>\n",
       "      <td>0.946855</td>\n",
       "    </tr>\n",
       "    <tr>\n",
       "      <th>4d-1d-L</th>\n",
       "      <td>2.031739</td>\n",
       "      <td>0.745023</td>\n",
       "    </tr>\n",
       "    <tr>\n",
       "      <th>5d-1d-L</th>\n",
       "      <td>1.608492</td>\n",
       "      <td>0.596830</td>\n",
       "    </tr>\n",
       "    <tr>\n",
       "      <th>3d-1d-A</th>\n",
       "      <td>2.618086</td>\n",
       "      <td>0.847448</td>\n",
       "    </tr>\n",
       "    <tr>\n",
       "      <th>4d-1d-A</th>\n",
       "      <td>2.168629</td>\n",
       "      <td>0.546090</td>\n",
       "    </tr>\n",
       "    <tr>\n",
       "      <th>5d-1d-A</th>\n",
       "      <td>1.612440</td>\n",
       "      <td>0.211630</td>\n",
       "    </tr>\n",
       "  </tbody>\n",
       "</table>\n",
       "</div>"
      ],
      "text/plain": [
       "             Mean  Standard Dev\n",
       "3d-1d-L  2.391302      0.946855\n",
       "4d-1d-L  2.031739      0.745023\n",
       "5d-1d-L  1.608492      0.596830\n",
       "3d-1d-A  2.618086      0.847448\n",
       "4d-1d-A  2.168629      0.546090\n",
       "5d-1d-A  1.612440      0.211630"
      ]
     },
     "execution_count": 123,
     "metadata": {},
     "output_type": "execute_result"
    }
   ],
   "source": [
    "#dati=pd.DataFrame(data=[1,2], columns=[\"Mean\", \"Standard Deviation\"])\n",
    "my_df= []\n",
    "\n",
    "data_station_list = [data_loslones, data_lomaAmarilla]\n",
    "for data in data_station_list:\n",
    "    X,y  = XySplit(data)\n",
    "\n",
    "    for i in range(3,6):\n",
    "        a=cross_val(i,X,y)\n",
    "        d = {\n",
    "            'Mean' : a[0] , # some formula for obtaining values\n",
    "            'Standard Dev' : a[1],\n",
    "        }\n",
    "        my_df.append(d)\n",
    "\n",
    "my_df = pd.DataFrame(my_df)\n",
    "\n",
    "my_df.set_index([indices])"
   ]
  },
  {
   "cell_type": "code",
   "execution_count": 119,
   "metadata": {},
   "outputs": [
    {
     "data": {
      "text/html": [
       "<div>\n",
       "<style>\n",
       "    .dataframe thead tr:only-child th {\n",
       "        text-align: right;\n",
       "    }\n",
       "\n",
       "    .dataframe thead th {\n",
       "        text-align: left;\n",
       "    }\n",
       "\n",
       "    .dataframe tbody tr th {\n",
       "        vertical-align: top;\n",
       "    }\n",
       "</style>\n",
       "<table border=\"1\" class=\"dataframe\">\n",
       "  <thead>\n",
       "    <tr style=\"text-align: right;\">\n",
       "      <th></th>\n",
       "      <th>Mean</th>\n",
       "      <th>Standard Dev</th>\n",
       "    </tr>\n",
       "  </thead>\n",
       "  <tbody>\n",
       "    <tr>\n",
       "      <th>0</th>\n",
       "      <td>2.391302</td>\n",
       "      <td>0.946855</td>\n",
       "    </tr>\n",
       "    <tr>\n",
       "      <th>1</th>\n",
       "      <td>2.031739</td>\n",
       "      <td>0.745023</td>\n",
       "    </tr>\n",
       "    <tr>\n",
       "      <th>2</th>\n",
       "      <td>1.608492</td>\n",
       "      <td>0.596830</td>\n",
       "    </tr>\n",
       "    <tr>\n",
       "      <th>3</th>\n",
       "      <td>2.618086</td>\n",
       "      <td>0.847448</td>\n",
       "    </tr>\n",
       "    <tr>\n",
       "      <th>4</th>\n",
       "      <td>2.168629</td>\n",
       "      <td>0.546090</td>\n",
       "    </tr>\n",
       "    <tr>\n",
       "      <th>5</th>\n",
       "      <td>1.612440</td>\n",
       "      <td>0.211630</td>\n",
       "    </tr>\n",
       "  </tbody>\n",
       "</table>\n",
       "</div>"
      ],
      "text/plain": [
       "       Mean  Standard Dev\n",
       "0  2.391302      0.946855\n",
       "1  2.031739      0.745023\n",
       "2  1.608492      0.596830\n",
       "3  2.618086      0.847448\n",
       "4  2.168629      0.546090\n",
       "5  1.612440      0.211630"
      ]
     },
     "execution_count": 119,
     "metadata": {},
     "output_type": "execute_result"
    }
   ],
   "source": [
    "my_df"
   ]
  },
  {
   "cell_type": "code",
   "execution_count": 131,
   "metadata": {},
   "outputs": [],
   "source": [
    "# manden un vector\n",
    "def linearDavid(data_station_list): \n",
    "    my_df= []\n",
    "    for data in data_station_list:\n",
    "        X,y  = XySplit(data)\n",
    "\n",
    "        for i in range(3,6):\n",
    "            a=cross_val(i,X,y)\n",
    "            d = {\n",
    "                'Mean' : a[0] , # some formula for obtaining values\n",
    "                'Standard Dev' : a[1],\n",
    "            }\n",
    "            my_df.append(d)\n",
    "\n",
    "    my_df = pd.DataFrame(my_df)\n",
    "\n",
    "    #my_df.set_index([indices])\n",
    "    \n",
    "    return my_df\n",
    "    "
   ]
  },
  {
   "cell_type": "code",
   "execution_count": null,
   "metadata": {
    "collapsed": true
   },
   "outputs": [],
   "source": [
    "indices = [\"3d-1d-L\",\"4d-1d-L\",\"5d-1d-L\",\"3d-1d-A\",\"4d-1d-A\",\"5d-1d-A\"]\n",
    "def creameIndice(i):\n",
    "    "
   ]
  },
  {
   "cell_type": "code",
   "execution_count": 132,
   "metadata": {},
   "outputs": [
    {
     "data": {
      "text/html": [
       "<div>\n",
       "<style>\n",
       "    .dataframe thead tr:only-child th {\n",
       "        text-align: right;\n",
       "    }\n",
       "\n",
       "    .dataframe thead th {\n",
       "        text-align: left;\n",
       "    }\n",
       "\n",
       "    .dataframe tbody tr th {\n",
       "        vertical-align: top;\n",
       "    }\n",
       "</style>\n",
       "<table border=\"1\" class=\"dataframe\">\n",
       "  <thead>\n",
       "    <tr style=\"text-align: right;\">\n",
       "      <th></th>\n",
       "      <th>Mean</th>\n",
       "      <th>Standard Dev</th>\n",
       "    </tr>\n",
       "  </thead>\n",
       "  <tbody>\n",
       "    <tr>\n",
       "      <th>0</th>\n",
       "      <td>2.489760</td>\n",
       "      <td>0.988989</td>\n",
       "    </tr>\n",
       "    <tr>\n",
       "      <th>1</th>\n",
       "      <td>2.132016</td>\n",
       "      <td>0.778293</td>\n",
       "    </tr>\n",
       "    <tr>\n",
       "      <th>2</th>\n",
       "      <td>1.569130</td>\n",
       "      <td>0.661446</td>\n",
       "    </tr>\n",
       "    <tr>\n",
       "      <th>3</th>\n",
       "      <td>2.618086</td>\n",
       "      <td>0.847448</td>\n",
       "    </tr>\n",
       "    <tr>\n",
       "      <th>4</th>\n",
       "      <td>2.168629</td>\n",
       "      <td>0.546090</td>\n",
       "    </tr>\n",
       "    <tr>\n",
       "      <th>5</th>\n",
       "      <td>1.612440</td>\n",
       "      <td>0.211630</td>\n",
       "    </tr>\n",
       "  </tbody>\n",
       "</table>\n",
       "</div>"
      ],
      "text/plain": [
       "       Mean  Standard Dev\n",
       "0  2.489760      0.988989\n",
       "1  2.132016      0.778293\n",
       "2  1.569130      0.661446\n",
       "3  2.618086      0.847448\n",
       "4  2.168629      0.546090\n",
       "5  1.612440      0.211630"
      ]
     },
     "execution_count": 132,
     "metadata": {},
     "output_type": "execute_result"
    }
   ],
   "source": [
    "linearDavid(data_station_list)"
   ]
  },
  {
   "cell_type": "code",
   "execution_count": null,
   "metadata": {},
   "outputs": [],
   "source": []
  },
  {
   "cell_type": "code",
   "execution_count": null,
   "metadata": {},
   "outputs": [],
   "source": []
  },
  {
   "cell_type": "code",
   "execution_count": null,
   "metadata": {
    "collapsed": true
   },
   "outputs": [],
   "source": []
  }
 ],
 "metadata": {
  "kernelspec": {
   "display_name": "Python 3",
   "language": "python",
   "name": "python3"
  },
  "language_info": {
   "codemirror_mode": {
    "name": "ipython",
    "version": 3
   },
   "file_extension": ".py",
   "mimetype": "text/x-python",
   "name": "python",
   "nbconvert_exporter": "python",
   "pygments_lexer": "ipython3",
   "version": "3.6.3"
  }
 },
 "nbformat": 4,
 "nbformat_minor": 2
}
